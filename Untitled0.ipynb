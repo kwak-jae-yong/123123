{
  "nbformat": 4,
  "nbformat_minor": 0,
  "metadata": {
    "colab": {
      "provenance": [],
      "toc_visible": true,
      "authorship_tag": "ABX9TyNszo9znDscS/ADdQoDJb+8",
      "include_colab_link": true
    },
    "kernelspec": {
      "name": "python3",
      "display_name": "Python 3"
    },
    "language_info": {
      "name": "python"
    }
  },
  "cells": [
    {
      "cell_type": "markdown",
      "metadata": {
        "id": "view-in-github",
        "colab_type": "text"
      },
      "source": [
        "<a href=\"https://colab.research.google.com/github/kwak-jae-yong/123123/blob/main/Untitled0.ipynb\" target=\"_parent\"><img src=\"https://colab.research.google.com/assets/colab-badge.svg\" alt=\"Open In Colab\"/></a>"
      ]
    },
    {
      "cell_type": "markdown",
      "source": [
        "# 1.자료형 출력하기"
      ],
      "metadata": {
        "id": "8Si-achsTzUL"
      }
    },
    {
      "cell_type": "code",
      "source": [
        "print(\"hello python!\")"
      ],
      "metadata": {
        "colab": {
          "base_uri": "https://localhost:8080/"
        },
        "id": "EKv1eBiXUIvE",
        "outputId": "835a9a39-c100-40ba-976a-51efcc49e6ce"
      },
      "execution_count": null,
      "outputs": [
        {
          "output_type": "stream",
          "name": "stdout",
          "text": [
            "hello python!\n"
          ]
        }
      ]
    },
    {
      "cell_type": "code",
      "source": [
        "#정수형\n",
        "x=10\n",
        "y=5\n",
        "z=x+y\n",
        "print(z)\n",
        "print(type(z))\n",
        "print(f\"{x}와 {y}의 합은 {z}입니다\")"
      ],
      "metadata": {
        "colab": {
          "base_uri": "https://localhost:8080/"
        },
        "id": "ckiipCXwVAPJ",
        "outputId": "4cb556fa-79d0-48f9-f681-f71d85589354"
      },
      "execution_count": null,
      "outputs": [
        {
          "output_type": "stream",
          "name": "stdout",
          "text": [
            "15\n",
            "<class 'int'>\n",
            "10와 5의 합은 15입니다\n"
          ]
        }
      ]
    },
    {
      "cell_type": "code",
      "source": [
        "#실수형\n",
        "pi=3.14159\n",
        "radius=5\n",
        "area=pi*radius*radius\n",
        "\n",
        "print(area)\n",
        "print(f\"pi:{pi},radius:{radius},area:{area}\")\n",
        "print(type(area))"
      ],
      "metadata": {
        "colab": {
          "base_uri": "https://localhost:8080/"
        },
        "id": "tNG7foQwWGnP",
        "outputId": "c821aa0c-aa54-47aa-99a3-26cb343b1d5f"
      },
      "execution_count": null,
      "outputs": [
        {
          "output_type": "stream",
          "name": "stdout",
          "text": [
            "78.53975\n",
            "pi:3.14159,radius:5,area:78.53975\n",
            "<class 'float'>\n"
          ]
        }
      ]
    },
    {
      "cell_type": "code",
      "source": [
        "#문자열\n",
        "name=\"james\"\n",
        "greeting =f\"hello,{name}\"\n",
        "\n",
        "print(greeting)\n",
        "print(type(greeting))"
      ],
      "metadata": {
        "colab": {
          "base_uri": "https://localhost:8080/"
        },
        "id": "RGmF141_WfIO",
        "outputId": "c587f425-c491-4258-e5c9-21c01a9da14a"
      },
      "execution_count": null,
      "outputs": [
        {
          "output_type": "stream",
          "name": "stdout",
          "text": [
            "hello,james\n",
            "<class 'str'>\n"
          ]
        }
      ]
    },
    {
      "cell_type": "code",
      "source": [
        "#boolean\n",
        "\n",
        "is_active=False\n",
        "\n",
        "if is_active:\n",
        "  print(\"활성화입니다\")\n",
        "else:\n",
        "  print(\"비활성화입니다\")\n",
        "  print(type(is_active))\n",
        "\n"
      ],
      "metadata": {
        "colab": {
          "base_uri": "https://localhost:8080/"
        },
        "id": "6U11srXiXB1F",
        "outputId": "aa54b5b0-5433-406a-b682-c2644fbe6430"
      },
      "execution_count": null,
      "outputs": [
        {
          "output_type": "stream",
          "name": "stdout",
          "text": [
            "비활성화입니다\n",
            "<class 'bool'>\n"
          ]
        }
      ]
    },
    {
      "cell_type": "code",
      "source": [
        "#List\n",
        "\n",
        "numbers=[1,2,3,4,5]\n",
        "numbers.append(6)\n",
        "print(numbers)\n",
        "\n",
        "print(f\"리스트의 길이:{len(numbers)}\")\n",
        "print(type(numbers))"
      ],
      "metadata": {
        "colab": {
          "base_uri": "https://localhost:8080/"
        },
        "id": "izywSJDEX1qM",
        "outputId": "2e141ea7-98c3-4d0b-de58-3dc47a646c14"
      },
      "execution_count": null,
      "outputs": [
        {
          "output_type": "stream",
          "name": "stdout",
          "text": [
            "[1, 2, 3, 4, 5, 6]\n",
            "리스트의 길이:6\n",
            "<class 'list'>\n"
          ]
        }
      ]
    },
    {
      "cell_type": "code",
      "source": [
        "#tuple\n",
        "cordinates =(10,20)\n",
        "#cordinates[0]=30\n",
        "print(cordinates[1])\n",
        "print(type(cordinates))"
      ],
      "metadata": {
        "colab": {
          "base_uri": "https://localhost:8080/"
        },
        "id": "tJafKECgYfHz",
        "outputId": "505f6369-4615-4659-c444-aaa7f9d15613"
      },
      "execution_count": null,
      "outputs": [
        {
          "output_type": "stream",
          "name": "stdout",
          "text": [
            "20\n",
            "<class 'tuple'>\n"
          ]
        }
      ]
    },
    {
      "cell_type": "code",
      "source": [
        "#dist\n",
        "\n",
        "person={\n",
        "    \"name\":\"jhon\",\n",
        "    \"age\":30,\n",
        "    \"city\":\"NewYork\"\n",
        "}\n",
        "\n",
        "print(person[\"name\"])\n",
        "print(person[\"age\"])\n",
        "print(person[\"city\"])\n",
        "print(type(person))"
      ],
      "metadata": {
        "colab": {
          "base_uri": "https://localhost:8080/"
        },
        "id": "3zH9O6IBY6K7",
        "outputId": "bf1ccd46-6531-412e-dc26-92c278882ecb"
      },
      "execution_count": null,
      "outputs": [
        {
          "output_type": "stream",
          "name": "stdout",
          "text": [
            "jhon\n",
            "30\n",
            "NewYork\n",
            "<class 'dict'>\n"
          ]
        }
      ]
    },
    {
      "cell_type": "code",
      "source": [
        "#set\n",
        "unique_numbers = {1,2,3,4,1,4,5,6}\n",
        "print(unique_numbers)\n",
        "print(type(unique_numbers))"
      ],
      "metadata": {
        "colab": {
          "base_uri": "https://localhost:8080/"
        },
        "id": "yGnx7_ktZaNS",
        "outputId": "fb52007b-eb1e-477d-9263-90eb0b0480cd"
      },
      "execution_count": null,
      "outputs": [
        {
          "output_type": "stream",
          "name": "stdout",
          "text": [
            "{1, 2, 3, 4, 5, 6}\n",
            "<class 'set'>\n"
          ]
        }
      ]
    },
    {
      "cell_type": "markdown",
      "source": [
        "# 2.문자열처리\n"
      ],
      "metadata": {
        "id": "kNN9H5XGbuqI"
      }
    },
    {
      "cell_type": "code",
      "source": [
        "text = \"hello python\"\n",
        "print(text)\n",
        "print(text[0])\n",
        "print(text[-1])\n",
        "print(text[0:5])\n",
        "print(text[6:])\n",
        "print(text[:5])\n"
      ],
      "metadata": {
        "colab": {
          "base_uri": "https://localhost:8080/"
        },
        "id": "4evR7LxobwLd",
        "outputId": "76641e71-0a2b-401d-b67e-0a0b306869fa"
      },
      "execution_count": null,
      "outputs": [
        {
          "output_type": "stream",
          "name": "stdout",
          "text": [
            "hello python\n",
            "h\n",
            "n\n",
            "hello\n",
            "python\n",
            "hello\n"
          ]
        }
      ]
    },
    {
      "cell_type": "code",
      "execution_count": null,
      "metadata": {
        "id": "C2yCNthBSTlp",
        "colab": {
          "base_uri": "https://localhost:8080/"
        },
        "outputId": "4265a43d-ae97-4ae0-a05a-5f08ec6fcbb5"
      },
      "outputs": [
        {
          "output_type": "stream",
          "name": "stdout",
          "text": [
            "wick의 나이는 25살입니다\n",
            "wick의 나이는 25살입니다.\n",
            "wick의 나이는 25살입니다\n"
          ]
        }
      ],
      "source": [
        "name=\"wick\"\n",
        "age=25\n",
        "print(f\"{name}의 나이는 {age}살입니다\")\n",
        "print(\"{}의 나이는 {}살입니다.\".format(name,age))\n",
        "print(\"%s의 나이는 %d살입니다\"%(name,age))\n"
      ]
    },
    {
      "cell_type": "code",
      "source": [
        "s=\"Hello Python\"\n",
        "print(s.strip())\n",
        "print(s.upper())\n",
        "print(s.lower())\n",
        "\n"
      ],
      "metadata": {
        "id": "FxD7qtkRdSOr"
      },
      "execution_count": null,
      "outputs": []
    },
    {
      "cell_type": "markdown",
      "source": [
        "# 3.사용자입력\n"
      ],
      "metadata": {
        "id": "tqHaRArNfGKQ"
      }
    },
    {
      "cell_type": "code",
      "source": [
        "x,y=input(\"두 숫자를 입력하세요 ex(10,20)\").split(\".\")\n",
        "print(f\"x:{x},y:{y}\")"
      ],
      "metadata": {
        "id": "l5-Yxe3zfsze",
        "colab": {
          "base_uri": "https://localhost:8080/"
        },
        "outputId": "adb16841-76d0-44f4-ebd3-6e40f4350e51"
      },
      "execution_count": null,
      "outputs": [
        {
          "output_type": "stream",
          "name": "stdout",
          "text": [
            "두 숫자를 입력하세요 ex(10,20)10.20\n",
            "x:10,y:20\n"
          ]
        }
      ]
    },
    {
      "cell_type": "code",
      "source": [
        "name=input(\"이름을 입력하세요\")\n",
        "age=input(\"나이를 입력하세요\")\n",
        "print(f\"{name}님 안녕하세요 당신의 나이는{age}입니다\")"
      ],
      "metadata": {
        "colab": {
          "base_uri": "https://localhost:8080/"
        },
        "id": "4S90Qbd8f0oW",
        "outputId": "950efb06-ffc5-423e-b137-88626db2bbff"
      },
      "execution_count": null,
      "outputs": [
        {
          "output_type": "stream",
          "name": "stdout",
          "text": [
            "이름을 입력하세요ㅓ믇ㄴ\n",
            "나이를 입력하세요25\n",
            "ㅓ믇ㄴ님 안녕하세요 당신의 나이는25입니다\n"
          ]
        }
      ]
    },
    {
      "cell_type": "markdown",
      "source": [
        "#4.연산자\n"
      ],
      "metadata": {
        "id": "jdpx1ElhfdsQ"
      }
    },
    {
      "cell_type": "code",
      "source": [
        "a=int(input(\"input first num\"))\n",
        "b=int(input(\"input second num\"))\n",
        "\n",
        "print(\"더하기\",a+b)\n",
        "print(\"빼기\",a-b)\n",
        "print(\"곱하기\",a*b)\n",
        "print(\"나누기\",a/b)\n",
        "print(\"거듭제곱\",a**b)\n",
        "print(\"나머지\",a%b)"
      ],
      "metadata": {
        "id": "4aSq2SM0fiI3",
        "colab": {
          "base_uri": "https://localhost:8080/"
        },
        "outputId": "dc48a9e3-03bf-48a1-b695-16a9fabaadbf"
      },
      "execution_count": null,
      "outputs": [
        {
          "output_type": "stream",
          "name": "stdout",
          "text": [
            "input first num45\n",
            "input second num22\n",
            "a+b 67\n",
            "a+b 23\n",
            "a+b 990\n",
            "a+b 2.0454545454545454\n",
            "a+b 2347876792391803819849491119384765625\n",
            "a+b 1\n"
          ]
        }
      ]
    },
    {
      "cell_type": "code",
      "source": [
        "age=int(input(\"나이를 입력하세요\"))\n",
        "is_teenager = age>=13 and age <=19\n",
        "print(\"is he teenage?\",is_teenager)"
      ],
      "metadata": {
        "colab": {
          "base_uri": "https://localhost:8080/"
        },
        "id": "aqaUlYAug9uM",
        "outputId": "9d90bc77-03d3-4803-dfb4-cf973dc4ebd9"
      },
      "execution_count": null,
      "outputs": [
        {
          "output_type": "stream",
          "name": "stdout",
          "text": [
            "나이를 입력하세요15\n",
            "is he teenage? True\n"
          ]
        }
      ]
    },
    {
      "cell_type": "code",
      "source": [
        "score=int(input(\"점수를 입력하세요\"))\n",
        "if score>=60:\n",
        "   print(\"qualified\")\n",
        "else:\n",
        "  print(\"unqualified\")"
      ],
      "metadata": {
        "colab": {
          "base_uri": "https://localhost:8080/"
        },
        "id": "gxPXmSDChXP0",
        "outputId": "2fe6704f-4e8a-4ff3-cbfe-590725b52253"
      },
      "execution_count": null,
      "outputs": [
        {
          "output_type": "stream",
          "name": "stdout",
          "text": [
            "점수를 입력하세요61\n",
            "qulified\n"
          ]
        }
      ]
    },
    {
      "cell_type": "markdown",
      "source": [
        "# 5.실습문제-1\n"
      ],
      "metadata": {
        "id": "10h5yPsE9uf3"
      }
    },
    {
      "cell_type": "code",
      "source": [
        "name=input()\n",
        "age=int(input())\n",
        "\n",
        "print(f\"{name}님은 {age}살입니다\")"
      ],
      "metadata": {
        "colab": {
          "base_uri": "https://localhost:8080/"
        },
        "id": "bibZKFcZiXQC",
        "outputId": "09753c79-8f8e-4f59-9674-174cb59962a0"
      },
      "execution_count": null,
      "outputs": [
        {
          "output_type": "stream",
          "name": "stdout",
          "text": [
            "홍길동\n",
            "11\n",
            "홍길동님은 11살입니다\n"
          ]
        }
      ]
    },
    {
      "cell_type": "code",
      "source": [
        "a=10\n",
        "b=20\n",
        "print(f\"{a}+{b}={a+b}\")"
      ],
      "metadata": {
        "colab": {
          "base_uri": "https://localhost:8080/"
        },
        "id": "EhrS2eL-isaz",
        "outputId": "5cc3f0e8-3830-4262-d38f-543ae28b76b6"
      },
      "execution_count": null,
      "outputs": [
        {
          "output_type": "stream",
          "name": "stdout",
          "text": [
            "10+20=30\n"
          ]
        }
      ]
    },
    {
      "cell_type": "code",
      "source": [
        "pi=3.14\n",
        "radius=int(input())\n",
        "area=pi*radius*radius\n",
        "print(f\"원의 넓이: {area}\")\n",
        "print(f\"원의 넓이: {area:.2f}\")"
      ],
      "metadata": {
        "colab": {
          "base_uri": "https://localhost:8080/"
        },
        "id": "hENMMjOrixip",
        "outputId": "3213f8d3-b09e-4f9f-9080-1e905e51267e"
      },
      "execution_count": null,
      "outputs": [
        {
          "output_type": "stream",
          "name": "stdout",
          "text": [
            "30\n",
            "원의 넓이: 2826.0\n",
            "원의 넓이: 2826.00\n"
          ]
        }
      ]
    },
    {
      "cell_type": "code",
      "source": [
        "a=int(input())\n",
        "if a%2==0:\n",
        "  print(f\"{a}는 짝수입니다\" )\n",
        "else:\n",
        " print(f\"{a}는 홀수입니다\" )"
      ],
      "metadata": {
        "colab": {
          "base_uri": "https://localhost:8080/"
        },
        "id": "9iiColX6jPgx",
        "outputId": "788f68bc-55a6-44b5-9ec0-9aafaa0a6260"
      },
      "execution_count": null,
      "outputs": [
        {
          "output_type": "stream",
          "name": "stdout",
          "text": [
            "12\n",
            "12는 짝수입니다\n"
          ]
        }
      ]
    },
    {
      "cell_type": "code",
      "source": [
        "height=float(input())\n",
        "weight=int(input())\n",
        "height_m=height/100\n",
        "bmi=weight/(height_m**2)\n",
        "print(f\"당신의 bmi는 {bmi:.2f} 입니다\")"
      ],
      "metadata": {
        "colab": {
          "base_uri": "https://localhost:8080/"
        },
        "id": "Dp1uYJyVner7",
        "outputId": "e8191589-5106-4538-f541-3a6b303082d0"
      },
      "execution_count": null,
      "outputs": [
        {
          "output_type": "stream",
          "name": "stdout",
          "text": [
            "178\n",
            "63\n",
            "당신의 bmi는 19.88 입니다\n"
          ]
        }
      ]
    },
    {
      "cell_type": "markdown",
      "source": [
        "#6.조건문\n"
      ],
      "metadata": {
        "id": "kooNUYzyrT88"
      }
    },
    {
      "cell_type": "code",
      "source": [
        "x=int(input())\n",
        "if x>10:\n",
        "  print(\"x is bigger then 10\")\n",
        "elif x>5:\n",
        "  print(\"x is bigger then 5\")\n",
        "else:\n",
        "  print(\"x is smaller then 5\")"
      ],
      "metadata": {
        "colab": {
          "base_uri": "https://localhost:8080/"
        },
        "id": "_Io14xtXrbXT",
        "outputId": "6ccc750b-e4eb-4af0-beb3-3264b2c3c5ac"
      },
      "execution_count": null,
      "outputs": [
        {
          "output_type": "stream",
          "name": "stdout",
          "text": [
            "6\n",
            "x is bigger then 5\n"
          ]
        }
      ]
    },
    {
      "cell_type": "code",
      "source": [
        "age=int(input())\n",
        "student=input()\n",
        "\n",
        "if age>=18:\n",
        "  if student==\"student\":\n",
        "    print(\"adult student\")\n",
        "  else:\n",
        "    print(\"adult not a student\")\n",
        "\n"
      ],
      "metadata": {
        "colab": {
          "base_uri": "https://localhost:8080/"
        },
        "id": "4K92VLC0svmi",
        "outputId": "aabcafc8-2662-4072-8e46-ad2278817ad5"
      },
      "execution_count": null,
      "outputs": [
        {
          "output_type": "stream",
          "name": "stdout",
          "text": [
            "65\n",
            "student\n",
            "adult student\n"
          ]
        }
      ]
    },
    {
      "cell_type": "code",
      "source": [
        "x=int(input()) #x=3\n",
        "result =\"x is bigger then 5\" if x>5 else\"x is smaller then 5\"\n",
        "print(result)"
      ],
      "metadata": {
        "colab": {
          "base_uri": "https://localhost:8080/"
        },
        "id": "OdDDY2RetZiY",
        "outputId": "b382a0a5-36b0-4730-c370-82f092a22cff"
      },
      "execution_count": null,
      "outputs": [
        {
          "output_type": "stream",
          "name": "stdout",
          "text": [
            "7\n",
            "x is bigger then 5\n"
          ]
        }
      ]
    },
    {
      "cell_type": "code",
      "source": [
        "x=12\n",
        "if x>5 and x<10:\n",
        "  print(\"x is bigger then 5 and smaller then 10\")\n",
        "if x<5 or x>10:\n",
        "  print(\"x is smaller then 5 or bigger then 10\")\n",
        "else:\n",
        "  print(\"x is bigger then 5 smaller then 10\")"
      ],
      "metadata": {
        "colab": {
          "base_uri": "https://localhost:8080/"
        },
        "id": "9YE17Oh9txKY",
        "outputId": "78420f7f-1168-4562-e343-cd5ed73917d5"
      },
      "execution_count": null,
      "outputs": [
        {
          "output_type": "stream",
          "name": "stdout",
          "text": [
            "x is smaller then 5 or bigger then 10\n"
          ]
        }
      ]
    },
    {
      "cell_type": "code",
      "source": [
        "x=10\n",
        "y=20\n",
        "\n",
        "if x==y:\n",
        "  print(\"x is simmilar to y\")\n",
        "elif x!=y:\n",
        "  print(\"x is not simmilar to y\")"
      ],
      "metadata": {
        "colab": {
          "base_uri": "https://localhost:8080/"
        },
        "id": "LDK6_4wwuu1P",
        "outputId": "9d751d74-cfd6-46ff-c00b-294e681e69eb"
      },
      "execution_count": null,
      "outputs": [
        {
          "output_type": "stream",
          "name": "stdout",
          "text": [
            "x is not simmilar to y\n"
          ]
        }
      ]
    },
    {
      "cell_type": "code",
      "source": [
        "my_list=[1,2,3,4,5]\n",
        "if 3 in my_list:\n",
        "  print(\"3 is in my_list\")\n",
        "if 6 not in my_list:\n",
        "  print(\"6 is not in my_list\")"
      ],
      "metadata": {
        "id": "dwu9XgzbvInm"
      },
      "execution_count": null,
      "outputs": []
    },
    {
      "cell_type": "markdown",
      "source": [
        "#7.실습문제-2"
      ],
      "metadata": {
        "id": "URQkZ0sfwBAV"
      }
    },
    {
      "cell_type": "code",
      "source": [
        "x=int(input(\"input num\"))\n",
        "if x>0:\n",
        "  print(\"its yang num\")\n",
        "elif x<0:\n",
        "  print(\"its yin num\")\n",
        "else:\n",
        "  print(\"its zero\")"
      ],
      "metadata": {
        "colab": {
          "base_uri": "https://localhost:8080/"
        },
        "id": "zhH6HgxP5HDz",
        "outputId": "e19ec8f8-84de-4f88-e4dd-c151b913e0c4"
      },
      "execution_count": null,
      "outputs": [
        {
          "output_type": "stream",
          "name": "stdout",
          "text": [
            "input num15\n",
            "its yang num\n"
          ]
        }
      ]
    },
    {
      "cell_type": "code",
      "source": [
        "x=int(input(\"input num\"))\n",
        "if x%2==0:\n",
        "  print(\"its odd\")\n",
        "else:\n",
        "  print(\"its even\")"
      ],
      "metadata": {
        "colab": {
          "base_uri": "https://localhost:8080/"
        },
        "id": "nTnawepX5cRS",
        "outputId": "2af492c7-8429-4dd8-ae96-76a99a6dec72"
      },
      "execution_count": null,
      "outputs": [
        {
          "output_type": "stream",
          "name": "stdout",
          "text": [
            "input num14\n",
            "its odd\n"
          ]
        }
      ]
    },
    {
      "cell_type": "code",
      "source": [
        "x=int(input(\"input first num\"))\n",
        "y=int(input(\"input second num\"))\n",
        "\n",
        "if x>y:\n",
        "  print(f\"more big num is {x}\")\n",
        "else:\n",
        "  print(f\"more big num is {y}\")"
      ],
      "metadata": {
        "colab": {
          "base_uri": "https://localhost:8080/"
        },
        "id": "pVKlbelD5ugC",
        "outputId": "b545a5c8-fe04-4669-bb2b-152d71e54cbe"
      },
      "execution_count": null,
      "outputs": [
        {
          "output_type": "stream",
          "name": "stdout",
          "text": [
            "input first num15\n",
            "input second num16\n",
            "more big num is16\n"
          ]
        }
      ]
    },
    {
      "cell_type": "code",
      "source": [
        "score = int(input(\"input num\"))\n",
        "\n",
        "if score>=90:\n",
        "  print(\"A\")\n",
        "elif score>=80:\n",
        "  print(\"B\")\n",
        "elif score>=70:\n",
        "  print(\"C\")\n",
        "else:\n",
        "  print(\"D\")\n"
      ],
      "metadata": {
        "colab": {
          "base_uri": "https://localhost:8080/"
        },
        "id": "XnrcSEsw5_0o",
        "outputId": "6a82a3b9-782f-4752-ea66-83f2d90ab663"
      },
      "execution_count": null,
      "outputs": [
        {
          "output_type": "stream",
          "name": "stdout",
          "text": [
            "input num99\n",
            "A\n"
          ]
        }
      ]
    },
    {
      "cell_type": "code",
      "source": [
        "my_list=[3,7,8,9]\n",
        "x=int(input(\"input first num\"))\n",
        "if x in my_list:\n",
        "  print(f\"{x} is in my list\")\n",
        "else:\n",
        "  print(f\"{x} is not in my list\")"
      ],
      "metadata": {
        "colab": {
          "base_uri": "https://localhost:8080/"
        },
        "id": "OV1Rth6m6hyn",
        "outputId": "fcc9691d-0222-437c-ff76-fc2898aa0877"
      },
      "execution_count": null,
      "outputs": [
        {
          "output_type": "stream",
          "name": "stdout",
          "text": [
            "input first num15\n",
            "15 is not in my list\n"
          ]
        }
      ]
    },
    {
      "cell_type": "code",
      "source": [
        "x=int(input(\"input first num\"))\n",
        "y=int(input(\"input second num\"))\n",
        "\n",
        "if x==y:\n",
        "  print(f\"{x} is same as {y}\")\n",
        "else:\n",
        "  print(f\"{x} is not same as {y}\")"
      ],
      "metadata": {
        "colab": {
          "base_uri": "https://localhost:8080/"
        },
        "id": "4L3g-XUV7FQu",
        "outputId": "a25f02e9-95b8-46fc-fcb0-f90aec02a52e"
      },
      "execution_count": null,
      "outputs": [
        {
          "output_type": "stream",
          "name": "stdout",
          "text": [
            "input first num12\n",
            "input second num13\n",
            "12 is not same as 13\n"
          ]
        }
      ]
    },
    {
      "cell_type": "code",
      "source": [
        "word = input(\"input text\")\n",
        "\n",
        "if len(word)>=5:\n",
        "  print(\"that short\")\n",
        "else:\n",
        "  print(\"thats long\")"
      ],
      "metadata": {
        "id": "kKIuqH0J7Wv0"
      },
      "execution_count": null,
      "outputs": []
    },
    {
      "cell_type": "code",
      "source": [
        "x=int(input(\"input num\"))\n",
        "\n",
        "if 1<=x & x<=100:\n",
        "  print(\"capable\")\n",
        "else:\n",
        "  print(\"out of control\")"
      ],
      "metadata": {
        "id": "mm-ZhwP37wfV"
      },
      "execution_count": null,
      "outputs": []
    },
    {
      "cell_type": "code",
      "source": [
        "id=input(\"input ID: \")\n",
        "pw=int(input(\"input PASSWORD: \"))\n",
        "\n",
        "if id==\"admin\" and pw==1234:\n",
        "  print(\"login success\")\n",
        "else:\n",
        "  print(\"fail to login\")"
      ],
      "metadata": {
        "colab": {
          "base_uri": "https://localhost:8080/"
        },
        "id": "sJeWQdSb8PNT",
        "outputId": "0bb850d2-72eb-4424-f662-939919ac29e2"
      },
      "execution_count": null,
      "outputs": [
        {
          "output_type": "stream",
          "name": "stdout",
          "text": [
            "input ID: admin\n",
            "input PASSWORD: 1234\n",
            "login success\n"
          ]
        }
      ]
    },
    {
      "cell_type": "code",
      "source": [
        "num=int(input(\"input num\"))\n",
        "\n",
        "if num%2==0:\n",
        "  print(\"3 multiply\")\n",
        "else:\n",
        "  print(\"not 3 multiply\")"
      ],
      "metadata": {
        "id": "zfY3QICr9IJg"
      },
      "execution_count": null,
      "outputs": []
    },
    {
      "cell_type": "markdown",
      "source": [
        "# 8-1 반복문"
      ],
      "metadata": {
        "id": "rJRMohiy9U9U"
      }
    },
    {
      "cell_type": "code",
      "source": [
        "nums =[10,20,30,40,50]\n",
        "\n",
        "print(nums[0])\n",
        "print(nums[-1])\n",
        "print(nums[1:3])"
      ],
      "metadata": {
        "colab": {
          "base_uri": "https://localhost:8080/"
        },
        "id": "nY_YLdSC9vn9",
        "outputId": "22cb8f24-4261-42d4-ffdd-1fd6d34c55d4"
      },
      "execution_count": null,
      "outputs": [
        {
          "output_type": "stream",
          "name": "stdout",
          "text": [
            "10\n",
            "50\n",
            "[20, 30]\n"
          ]
        }
      ]
    },
    {
      "cell_type": "code",
      "source": [
        "animals = [\"dog\",\"cat\",\"parrot\"]\n",
        "\n",
        "for animal in animals:\n",
        "  print(animal)"
      ],
      "metadata": {
        "colab": {
          "base_uri": "https://localhost:8080/"
        },
        "id": "a5X6AqBG9viV",
        "outputId": "2e54f809-128a-4116-e00e-1bd5033fe617"
      },
      "execution_count": null,
      "outputs": [
        {
          "output_type": "stream",
          "name": "stdout",
          "text": [
            "dog\n",
            "cat\n",
            "parrot\n"
          ]
        }
      ]
    },
    {
      "cell_type": "code",
      "source": [
        "fruits = [\"apple\",\"orange\",\"banana\"]\n",
        "\n",
        "print(\"fruit log\")\n",
        "\n",
        "for f in fruits:\n",
        "  print(f\" - {f}\")"
      ],
      "metadata": {
        "colab": {
          "base_uri": "https://localhost:8080/"
        },
        "id": "ajgEdW_S-Ula",
        "outputId": "d4d17fd3-50b9-493d-cc38-7a7129a7ee09"
      },
      "execution_count": null,
      "outputs": [
        {
          "output_type": "stream",
          "name": "stdout",
          "text": [
            "fruit log\n",
            " - apple\n",
            " - orange\n",
            " - banana\n"
          ]
        }
      ]
    },
    {
      "cell_type": "code",
      "source": [
        "names =[]\n",
        "\n",
        "for i in range(3):\n",
        "  name=input(f\"{i+1} input counted name\")\n",
        "  names.append(name)\n",
        "print(\"input name list\",names)"
      ],
      "metadata": {
        "colab": {
          "base_uri": "https://localhost:8080/"
        },
        "id": "P4I7kSAl-vGs",
        "outputId": "61484a86-cbed-40a2-e45b-621cdd356fc5"
      },
      "execution_count": null,
      "outputs": [
        {
          "output_type": "stream",
          "name": "stdout",
          "text": [
            "1 input counted nameharry\n",
            "2 input counted namejhon\n",
            "3 input counted namemike\n",
            "input name list ['harry', 'jhon', 'mike']\n"
          ]
        }
      ]
    },
    {
      "cell_type": "markdown",
      "source": [
        "# 8-2 반복문\n"
      ],
      "metadata": {
        "id": "_vCEyVNm_3Cp"
      }
    },
    {
      "cell_type": "code",
      "source": [
        "num_list=[10,21,32,43,54]\n",
        "\n",
        "\n",
        "sum=0\n",
        "for num in num_list:\n",
        "  sum+=num\n",
        "\n",
        "avg=int(sum/len(num_list))\n",
        "print(f\"sum of list {sum}\")\n",
        "print(f\"avg of list {avg}\")"
      ],
      "metadata": {
        "colab": {
          "base_uri": "https://localhost:8080/"
        },
        "id": "vTHsFZESEpvr",
        "outputId": "a8d3bde6-89be-46f1-a81d-ab9b879f1b09"
      },
      "execution_count": null,
      "outputs": [
        {
          "output_type": "stream",
          "name": "stdout",
          "text": [
            "sum of list 1600\n",
            "avg of list 320\n"
          ]
        }
      ]
    },
    {
      "cell_type": "code",
      "source": [
        "score=[65,75,85,95,105]\n",
        "count = 0\n",
        "for i in score:\n",
        "  if i>=60:\n",
        "    print(i)\n",
        "    count+=1\n",
        "print(count)"
      ],
      "metadata": {
        "colab": {
          "base_uri": "https://localhost:8080/"
        },
        "id": "5_k7ifZXHdaS",
        "outputId": "f4746c9a-a2e8-4baf-88ab-81f2c52f8665"
      },
      "execution_count": null,
      "outputs": [
        {
          "output_type": "stream",
          "name": "stdout",
          "text": [
            "65\n",
            "75\n",
            "85\n",
            "95\n",
            "105\n",
            "5\n"
          ]
        }
      ]
    },
    {
      "cell_type": "code",
      "source": [
        "names =[]\n",
        "for i in range(3):\n",
        "  name =input(f\"{i+1}번 이름을 입력하세요\")\n",
        "\n",
        "  names.append(name)\n",
        "print(\"입력한 이름 리스트\".names)"
      ],
      "metadata": {
        "id": "m5W6wZzVIGqq"
      },
      "execution_count": null,
      "outputs": []
    },
    {
      "cell_type": "code",
      "source": [
        "fruits=[]\n",
        "for i in range(3):\n",
        "  fruit=input(f\"{i+1}번 과일을 입력하세요\")\n",
        "\n",
        "\n",
        "  fruits.append(fruit)\n",
        "print(fruits[0])"
      ],
      "metadata": {
        "colab": {
          "base_uri": "https://localhost:8080/"
        },
        "id": "vsxk4EWVIYNQ",
        "outputId": "af2975d9-69b4-4930-fcb8-5ce2e9328a93"
      },
      "execution_count": null,
      "outputs": [
        {
          "output_type": "stream",
          "name": "stdout",
          "text": [
            "1번 과일을 입력하세요apple\n",
            "2번 과일을 입력하세요orange\n",
            "3번 과일을 입력하세요banana\n",
            "apple\n"
          ]
        }
      ]
    },
    {
      "cell_type": "code",
      "source": [
        "num_list=[1,2,3,4,5]\n",
        "\n",
        "new_list=[]\n",
        "\n",
        "for num in num_list:\n",
        "  if num%2==0:\n",
        "    new_list.append(num)\n",
        "print(new_list)"
      ],
      "metadata": {
        "colab": {
          "base_uri": "https://localhost:8080/"
        },
        "id": "YCt6_LqOI8eb",
        "outputId": "708bc3b8-e551-402b-ca61-65d4659bb0a7"
      },
      "execution_count": null,
      "outputs": [
        {
          "output_type": "stream",
          "name": "stdout",
          "text": [
            "[2, 4]\n"
          ]
        }
      ]
    },
    {
      "cell_type": "markdown",
      "source": [
        "#8-3 배열 반복문:"
      ],
      "metadata": {
        "id": "ZVYLqBMuCzOC"
      }
    },
    {
      "cell_type": "code",
      "source": [
        "nums=[]\n",
        "for num in range(10):\n",
        " num+=1\n",
        "\n",
        " nums.append(num)\n",
        "\n",
        "print(nums)\n",
        "\n",
        "for i in range(1,11):\n",
        "  print(i)"
      ],
      "metadata": {
        "colab": {
          "base_uri": "https://localhost:8080/"
        },
        "id": "NUm1IT3CDDgI",
        "outputId": "38df561e-a6cd-4754-dda9-75339b001c17"
      },
      "execution_count": null,
      "outputs": [
        {
          "output_type": "stream",
          "name": "stdout",
          "text": [
            "[1, 2, 3, 4, 5, 6, 7, 8, 9, 10]\n",
            "1\n",
            "2\n",
            "3\n",
            "4\n",
            "5\n",
            "6\n",
            "7\n",
            "8\n",
            "9\n",
            "10\n"
          ]
        }
      ]
    },
    {
      "cell_type": "code",
      "source": [
        "str1=\"안녕하세요\"\n",
        "str2=\"저는\"\n",
        "num=int(input(\"input Num: \"))\n",
        "for i in range(num):\n",
        "  print(str1)\n"
      ],
      "metadata": {
        "colab": {
          "base_uri": "https://localhost:8080/"
        },
        "id": "lUPWBak8Exf1",
        "outputId": "cfc8998f-ab92-481b-bd8f-740106671455"
      },
      "execution_count": null,
      "outputs": [
        {
          "output_type": "stream",
          "name": "stdout",
          "text": [
            "input Num: 15\n",
            "안녕하세요\n",
            "안녕하세요\n",
            "안녕하세요\n",
            "안녕하세요\n",
            "안녕하세요\n",
            "안녕하세요\n",
            "안녕하세요\n",
            "안녕하세요\n",
            "안녕하세요\n",
            "안녕하세요\n",
            "안녕하세요\n",
            "안녕하세요\n",
            "안녕하세요\n",
            "안녕하세요\n",
            "안녕하세요\n"
          ]
        }
      ]
    },
    {
      "cell_type": "code",
      "source": [
        "result=\"\"\n",
        "for i in range(1,101,2):\n",
        "  result+=str(i+1)+\",\"\n",
        "print(result.strip(\",\"))"
      ],
      "metadata": {
        "colab": {
          "base_uri": "https://localhost:8080/"
        },
        "id": "bO8tWNhSFYEM",
        "outputId": "755d320d-c36c-4804-f1a0-12b233d7a52c"
      },
      "execution_count": null,
      "outputs": [
        {
          "output_type": "stream",
          "name": "stdout",
          "text": [
            "2,4,6,8,10,12,14,16,18,20,22,24,26,28,30,32,34,36,38,40,42,44,46,48,50,52,54,56,58,60,62,64,66,68,70,72,74,76,78,80,82,84,86,88,90,92,94,96,98,100\n"
          ]
        }
      ]
    },
    {
      "cell_type": "code",
      "source": [
        "nums=[]\n",
        "\n",
        "for num in range(5):\n",
        "  num=int(input(f\"{num+1} 번 숫자를 입력하세요: \"))\n",
        "  nums.append(num)\n",
        "print(nums)"
      ],
      "metadata": {
        "colab": {
          "base_uri": "https://localhost:8080/"
        },
        "id": "3bjCNPoDHujn",
        "outputId": "5235801f-c221-4989-865d-934e49108e06"
      },
      "execution_count": null,
      "outputs": [
        {
          "output_type": "stream",
          "name": "stdout",
          "text": [
            "1 번 숫자를 입력하세요: 1\n",
            "2 번 숫자를 입력하세요: 2\n",
            "3 번 숫자를 입력하세요: 3\n",
            "4 번 숫자를 입력하세요: 4\n",
            "5 번 숫자를 입력하세요: 5\n",
            "[1, 2, 3, 4, 5]\n"
          ]
        }
      ]
    },
    {
      "cell_type": "markdown",
      "source": [
        "#9-1함수의 정의\n"
      ],
      "metadata": {
        "id": "A4HiwGuxL06j"
      }
    },
    {
      "cell_type": "code",
      "source": [
        "def greet(name):\n",
        "  return f\"hello {name}\"\n",
        "message= greet(\"jhon\")\n",
        "print(message)"
      ],
      "metadata": {
        "colab": {
          "base_uri": "https://localhost:8080/"
        },
        "id": "qAJOOhsaL5IJ",
        "outputId": "fd8d7c15-20a6-4a63-ce46-8b641de74ce9"
      },
      "execution_count": null,
      "outputs": [
        {
          "output_type": "stream",
          "name": "stdout",
          "text": [
            "hello jhon\n"
          ]
        }
      ]
    },
    {
      "cell_type": "code",
      "source": [
        "def add(a,b):\n",
        "  return a+b\n",
        "result = add(5,9)\n",
        "print(result)\n",
        "\n",
        "def multy(x,y,z):\n",
        "  return x*y*z\n",
        "result2=multy(3,2,1)\n",
        "print(result2)"
      ],
      "metadata": {
        "colab": {
          "base_uri": "https://localhost:8080/"
        },
        "id": "aCymFQZtMYWR",
        "outputId": "a30319b6-f91b-4bf4-a7f4-c66af1e4bf0e"
      },
      "execution_count": null,
      "outputs": [
        {
          "output_type": "stream",
          "name": "stdout",
          "text": [
            "14\n",
            "6\n"
          ]
        }
      ]
    },
    {
      "cell_type": "markdown",
      "source": [
        "#9-2 함수의유형"
      ],
      "metadata": {
        "id": "ll329h0HRcq4"
      }
    },
    {
      "cell_type": "code",
      "source": [
        "def say_hi():\n",
        "  print(\"hi\")\n",
        "say_hi()\n"
      ],
      "metadata": {
        "id": "vOxiI2pIS3_c",
        "colab": {
          "base_uri": "https://localhost:8080/"
        },
        "outputId": "022c8932-d031-49ea-c95f-7bc530594f59"
      },
      "execution_count": null,
      "outputs": [
        {
          "output_type": "stream",
          "name": "stdout",
          "text": [
            "hi\n"
          ]
        }
      ]
    },
    {
      "cell_type": "code",
      "source": [
        "def greet(name=\"guest\"):\n",
        "    print(f\"Hello, {name}!\")\n",
        "\n",
        "greet(\"jhon\")\n",
        "greet()\n",
        "def new_greet(user=\"admin\",age=25):\n",
        "  print(f\"{user}님의 나이는 {age}살 입니다\")\n",
        "new_greet(\"james\",20)\n",
        "new_greet()\n"
      ],
      "metadata": {
        "id": "5tZ3JMKCS4d0",
        "colab": {
          "base_uri": "https://localhost:8080/"
        },
        "outputId": "9f40671f-c958-4544-dc61-c595bc3f5ddb"
      },
      "execution_count": null,
      "outputs": [
        {
          "output_type": "stream",
          "name": "stdout",
          "text": [
            "Hello, jhon!\n",
            "Hello, guest!\n",
            "james님의 나이는 20살 입니다\n",
            "admin님의 나이는 25살 입니다\n"
          ]
        }
      ]
    },
    {
      "cell_type": "code",
      "source": [
        "def add_numbers(*keyword):\n",
        "  return sum(keyword)\n",
        "print(add_numbers(1,2,3,4,5,6))"
      ],
      "metadata": {
        "colab": {
          "base_uri": "https://localhost:8080/"
        },
        "id": "yfPoTCmR7rE0",
        "outputId": "e3927f3a-6746-4096-cc18-bcf8048264d9"
      },
      "execution_count": null,
      "outputs": [
        {
          "output_type": "stream",
          "name": "stdout",
          "text": [
            "21\n"
          ]
        }
      ]
    },
    {
      "cell_type": "code",
      "source": [
        "def print_info(**keys):\n",
        "  for key,value in keys.items():\n",
        "    print(f\"{key}:{value}\")\n",
        "print_info(name=\"james\",age=25,city=\"pyeong yang\")\n"
      ],
      "metadata": {
        "colab": {
          "base_uri": "https://localhost:8080/"
        },
        "id": "QrQug9r5QcdZ",
        "outputId": "f6e71ab7-e90d-4162-d03d-47f7d6941b51"
      },
      "execution_count": null,
      "outputs": [
        {
          "output_type": "stream",
          "name": "stdout",
          "text": [
            "name:james\n",
            "age:25\n",
            "city:pyeong yang\n"
          ]
        }
      ]
    },
    {
      "cell_type": "markdown",
      "source": [
        "#9-3 lamda\n"
      ],
      "metadata": {
        "id": "-ERkyF5uRXSy"
      }
    },
    {
      "cell_type": "code",
      "source": [
        "square = lambda x:x**2\n",
        "print(square(5))\n",
        "print(square(6))\n",
        "circle=lambda a,b,c:a*b*c\n",
        "print(circle(1,2,3))"
      ],
      "metadata": {
        "id": "ztrxvohtRcDP",
        "colab": {
          "base_uri": "https://localhost:8080/"
        },
        "outputId": "79caf552-7ddf-4381-ad52-9f516027c96a"
      },
      "execution_count": null,
      "outputs": [
        {
          "output_type": "stream",
          "name": "stdout",
          "text": [
            "25\n",
            "36\n",
            "6\n"
          ]
        }
      ]
    },
    {
      "cell_type": "markdown",
      "source": [
        "#9-4 실습문제-3\n"
      ],
      "metadata": {
        "id": "MHxhFPEhSQW-"
      }
    },
    {
      "cell_type": "code",
      "source": [
        "numbers=[1,2,3,4,5]\n",
        "squares=list(map(lambda x:x**2,numbers))\n",
        "\n",
        "print(squares)"
      ],
      "metadata": {
        "colab": {
          "base_uri": "https://localhost:8080/"
        },
        "id": "I6t6eoWv8gky",
        "outputId": "66fd53d2-8568-4cac-b7a6-15c82d762c6d"
      },
      "execution_count": null,
      "outputs": [
        {
          "output_type": "stream",
          "name": "stdout",
          "text": [
            "[1, 4, 9, 16, 25]\n"
          ]
        }
      ]
    },
    {
      "cell_type": "code",
      "source": [
        "numbers = [10,15,21,30,33,40]\n",
        "result = list(filter(lambda x:x%3==0,numbers))\n",
        "\n",
        "print(result)"
      ],
      "metadata": {
        "id": "d-Cdbu3iSUNt",
        "colab": {
          "base_uri": "https://localhost:8080/"
        },
        "outputId": "cc576d22-c17a-4c79-99a4-0c0abae32fe3"
      },
      "execution_count": null,
      "outputs": [
        {
          "output_type": "stream",
          "name": "stdout",
          "text": [
            "[15, 21, 30, 33]\n"
          ]
        }
      ]
    },
    {
      "cell_type": "code",
      "source": [
        "students=[(\"김정은\",41),(\"트럼프\",78),(\"이재명\",60)]\n",
        "sorted_students=sorted(students,key=lambda x:x[1],reverse=True)\n",
        "print(sorted_students)"
      ],
      "metadata": {
        "colab": {
          "base_uri": "https://localhost:8080/"
        },
        "id": "czsONw7p8z_C",
        "outputId": "dc4634ba-edc9-4fda-a493-d599edd99fb1"
      },
      "execution_count": null,
      "outputs": [
        {
          "output_type": "stream",
          "name": "stdout",
          "text": [
            "[('트럼프', 78), ('이재명', 60), ('김정은', 41)]\n"
          ]
        }
      ]
    },
    {
      "cell_type": "markdown",
      "source": [
        "#9-5 중첩함수"
      ],
      "metadata": {
        "id": "bKR9aMrXUG9U"
      }
    },
    {
      "cell_type": "code",
      "source": [
        "def factorial(n):\n",
        "  if n==1:\n",
        "    return 1\n",
        "  return n*factorial(n-1)\n",
        "print(factorial(4))"
      ],
      "metadata": {
        "colab": {
          "base_uri": "https://localhost:8080/"
        },
        "id": "LccWKHmnUKYh",
        "outputId": "27d4b9bb-fad2-4f3b-8240-3b47ab74a0db"
      },
      "execution_count": null,
      "outputs": [
        {
          "output_type": "stream",
          "name": "stdout",
          "text": [
            "24\n"
          ]
        }
      ]
    },
    {
      "cell_type": "code",
      "source": [
        "def outer_function(msg):\n",
        "  def inner_function():\n",
        "    print(msg+\"!!!\")\n",
        "  inner_function()\n",
        "outer_function(\"hello python\")"
      ],
      "metadata": {
        "colab": {
          "base_uri": "https://localhost:8080/"
        },
        "id": "9lgPkH2eU-5b",
        "outputId": "b691eee0-9a08-48e4-e869-a340c11b65d2"
      },
      "execution_count": null,
      "outputs": [
        {
          "output_type": "stream",
          "name": "stdout",
          "text": [
            "hello python!!!\n"
          ]
        }
      ]
    },
    {
      "cell_type": "code",
      "source": [
        "def outer(name):\n",
        "  def inner():\n",
        "    return f\"{name} sama yokoso\"\n",
        "  return inner()\n",
        "print(outer(\"hong gil dong\"))"
      ],
      "metadata": {
        "colab": {
          "base_uri": "https://localhost:8080/"
        },
        "id": "H6rHXdqxVvX4",
        "outputId": "8a1cf4f4-c6bb-443c-ca8b-c8109a9062c5"
      },
      "execution_count": null,
      "outputs": [
        {
          "output_type": "stream",
          "name": "stdout",
          "text": [
            "hong gil dong sama yokoso\n"
          ]
        }
      ]
    },
    {
      "cell_type": "code",
      "source": [
        "def greeting(name):\n",
        "  def message():\n",
        "    print(f\"{name} 님 안녕하세요\")\n",
        "  return message\n",
        "say_hi = greeting(\"PYTHOOOOON\")\n",
        "say_hi()"
      ],
      "metadata": {
        "colab": {
          "base_uri": "https://localhost:8080/"
        },
        "id": "MDrU5uLuWYFv",
        "outputId": "5b567345-b589-408d-ead4-372d81c592a2"
      },
      "execution_count": null,
      "outputs": [
        {
          "output_type": "stream",
          "name": "stdout",
          "text": [
            "PYTHOOOOON 님 안녕하세요\n"
          ]
        }
      ]
    },
    {
      "cell_type": "code",
      "source": [
        "def max_fuc(num):\n",
        "  return max(num)\n",
        "def min_fuc(num):\n",
        "  return min(num)\n",
        "print(max_fuc([1,2,3,4,5]))\n",
        "print(min_fuc([1,2,3,4,5]))"
      ],
      "metadata": {
        "colab": {
          "base_uri": "https://localhost:8080/"
        },
        "id": "h01AyKJtXD1u",
        "outputId": "3072aa48-7a2c-448d-f77f-92e7bf889ef1"
      },
      "execution_count": null,
      "outputs": [
        {
          "output_type": "stream",
          "name": "stdout",
          "text": [
            "5\n",
            "1\n"
          ]
        }
      ]
    },
    {
      "cell_type": "code",
      "source": [
        "def reverse_string(s):\n",
        "  return s[::-1]\n",
        "\n",
        "print(reverse_string(\"뭉탱이로다가 유리게슝 오옹 나이스 으시안 오옹\"))"
      ],
      "metadata": {
        "colab": {
          "base_uri": "https://localhost:8080/"
        },
        "id": "TVDibWM-XV6d",
        "outputId": "128b7fc9-bcf6-4d84-f86b-771f4a16a68a"
      },
      "execution_count": null,
      "outputs": [
        {
          "output_type": "stream",
          "name": "stdout",
          "text": [
            "옹오 안시으 스이나 옹오 슝게리유 가다로이탱뭉\n"
          ]
        }
      ]
    }
  ]
}